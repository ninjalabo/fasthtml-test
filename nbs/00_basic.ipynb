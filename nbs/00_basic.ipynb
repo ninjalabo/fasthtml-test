{
 "cells": [
  {
   "cell_type": "markdown",
   "metadata": {},
   "source": [
    "# Basic\n",
    "\n",
    "> Introduction to the basic functionalities & properties of FastHTML"
   ]
  },
  {
   "cell_type": "code",
   "execution_count": null,
   "metadata": {},
   "outputs": [],
   "source": [
    "#| default_exp basic"
   ]
  },
  {
   "cell_type": "code",
   "execution_count": null,
   "metadata": {
    "tags": []
   },
   "outputs": [],
   "source": [
    "#| hide\n",
    "from nbdev.showdoc import show_doc\n",
    "from nbdev import nbdev_export"
   ]
  },
  {
   "cell_type": "markdown",
   "metadata": {
    "tags": []
   },
   "source": [
    "## Initialization\n",
    "\n",
    "Let's create a fastHTML app with just one endpoint and run it on separate thread spawn from Jupyter Notebook."
   ]
  },
  {
   "cell_type": "code",
   "execution_count": 3,
   "metadata": {
    "tags": []
   },
   "outputs": [],
   "source": [
    "from fasthtml.common import *\n",
    "from fasthtml.jupyter import *"
   ]
  },
  {
   "cell_type": "code",
   "execution_count": 68,
   "metadata": {
    "tags": []
   },
   "outputs": [],
   "source": [
    "app = FastHTML()"
   ]
  },
  {
   "cell_type": "code",
   "execution_count": 41,
   "metadata": {
    "tags": []
   },
   "outputs": [],
   "source": [
    "@app.get(\"/\")  # Define API endpoint\n",
    "def index():\n",
    "    # Return the HTML structure to be rendered\n",
    "    return Titled('Hello, Jupyter',\n",
    "        P('Welcome to the FastHTML + Jupyter example')\n",
    "    )"
   ]
  },
  {
   "cell_type": "code",
   "execution_count": 70,
   "metadata": {
    "tags": []
   },
   "outputs": [],
   "source": [
    "# Server for Jupyter notebook web-app\n",
    "# This will spawn a separate thread for running the server on default port 8000\n",
    "server = JupyUvi(app)"
   ]
  },
  {
   "cell_type": "markdown",
   "metadata": {},
   "source": [
    "By default, the server is run on port 8000. Once that port is occupied, the server cannot run in it and will prompt an error.  \n",
    "\n",
    "After started, the server can be halted via the command:"
   ]
  },
  {
   "cell_type": "code",
   "execution_count": 91,
   "metadata": {
    "tags": []
   },
   "outputs": [
    {
     "name": "stdout",
     "output_type": "stream",
     "text": [
      "Timeout\n"
     ]
    }
   ],
   "source": [
    "server.stop()"
   ]
  },
  {
   "cell_type": "markdown",
   "metadata": {},
   "source": [
    "Similarly, the server can also be restarted:"
   ]
  },
  {
   "cell_type": "code",
   "execution_count": 24,
   "metadata": {
    "tags": []
   },
   "outputs": [],
   "source": [
    "server.start()"
   ]
  },
  {
   "cell_type": "markdown",
   "metadata": {},
   "source": [
    "Note that a server created this way is tied to the initiated `app` object. It is also automatically updated. This means that whenever an API endpoint is added or modified, the changed can be immediately applied for the next user-triggered rendering or reloading."
   ]
  },
  {
   "cell_type": "code",
   "execution_count": 74,
   "metadata": {
    "tags": []
   },
   "outputs": [],
   "source": [
    "#| hide\n",
    "def reset_app():\n",
    "    global app\n",
    "    global server\n",
    "    \n",
    "    server.stop()\n",
    "    app = FastHTML()\n",
    "    server = JupyUvi(app)"
   ]
  },
  {
   "cell_type": "markdown",
   "metadata": {
    "tags": []
   },
   "source": [
    "## Custom HTML structure\n",
    "\n",
    "fastHTML allows complete control over the structure of your rendered UI. Try adding some new nested elements into the main page:"
   ]
  },
  {
   "cell_type": "code",
   "execution_count": 43,
   "metadata": {
    "tags": []
   },
   "outputs": [],
   "source": [
    "@app.get(\"/\")  # Define API endpoint\n",
    "def index():\n",
    "    # Return the HTML structure to be rendered\n",
    "    return Titled('Hello, Jupyter',\n",
    "        P('Welcome to the FastHTML + Jupyter example'),\n",
    "        Ul(\n",
    "            Li('It is easy to create.'),\n",
    "            Li('It is fast to render.'),\n",
    "            Li('It is fun!')\n",
    "        )\n",
    "    )"
   ]
  },
  {
   "cell_type": "markdown",
   "metadata": {},
   "source": [
    "After reloading the webpage, the generated UI should be consistent with the description via fastHTML Python SDK:\n",
    "\n",
    "![List rendering](images/basic_list.png)"
   ]
  },
  {
   "cell_type": "markdown",
   "metadata": {},
   "source": [
    "Apart from the structure, you can also configure the attributes of your components, including their IDs, classes, or styles:"
   ]
  },
  {
   "cell_type": "code",
   "execution_count": 44,
   "metadata": {
    "tags": []
   },
   "outputs": [],
   "source": [
    "@app.get(\"/\")  # Define API endpoint\n",
    "def index():\n",
    "    # Return the HTML structure to be rendered\n",
    "    return Titled('Hello, Jupyter',\n",
    "        P('Welcome to the FastHTML + Jupyter example', style=\"background-color: #800000;\"),\n",
    "        Ul(\n",
    "            Li('It is easy to create.'),\n",
    "            Li('It is fast to render.'),\n",
    "            Li('It is fun!'),\n",
    "            id=\"benefits\"\n",
    "        )\n",
    "    )"
   ]
  },
  {
   "cell_type": "markdown",
   "metadata": {
    "tags": []
   },
   "source": [
    "## API - driven\n",
    "\n",
    "The selection and content of rendered UI in fastHTML is dependent on API endpoint. For instance, we can define a new page for our website by adding it at endpoint GET /hello. "
   ]
  },
  {
   "cell_type": "code",
   "execution_count": 47,
   "metadata": {
    "tags": []
   },
   "outputs": [],
   "source": [
    "@app.get(\"/welcome\")\n",
    "def say_hello():\n",
    "    return Titled('Introduction',\n",
    "        P('Welcome!'),\n",
    "        P('This is an application created with FastHTML and Jupyter Notebook')\n",
    "    )"
   ]
  },
  {
   "cell_type": "markdown",
   "metadata": {},
   "source": [
    "As such, our application is now a multi-page application. We can also add a navigation link between the websites:"
   ]
  },
  {
   "cell_type": "code",
   "execution_count": 49,
   "metadata": {
    "tags": []
   },
   "outputs": [],
   "source": [
    "@app.get(\"/\")  # Define API endpoint\n",
    "def index():\n",
    "    # Return the HTML structure to be rendered\n",
    "    return Titled('Hello, Jupyter',\n",
    "        P('Welcome to the FastHTML + Jupyter example', style=\"background-color: #800000;\"),\n",
    "        A(\"Welcome page ->\", href=\"/welcome\"),\n",
    "        Ul(\n",
    "            Li('It is easy to create.'),\n",
    "            Li('It is fast to render.'),\n",
    "            Li('It is fun!'),\n",
    "            id=\"benefits\"\n",
    "        )\n",
    "    )\n",
    "\n",
    "@app.get(\"/welcome\")\n",
    "def say_hello():\n",
    "    return Titled('Introduction',\n",
    "        P('Welcome!'),\n",
    "        P('This is an application created with FastHTML and Jupyter Notebook'),\n",
    "        A(\"Home page ->\", href=\"/\")\n",
    "    )"
   ]
  },
  {
   "cell_type": "markdown",
   "metadata": {},
   "source": [
    "Furthermore, we can create dynamic page from path parameters or query parameters:"
   ]
  },
  {
   "cell_type": "code",
   "execution_count": 50,
   "metadata": {
    "tags": []
   },
   "outputs": [],
   "source": [
    "@app.get(\"/welcome/{name}\")\n",
    "def say_hello(name: str = \"\"):\n",
    "    return Titled('Introduction',\n",
    "        P(f'Welcome {name}!'),\n",
    "        P('This is an application created with FastHTML and Jupyter Notebook'),\n",
    "        A(\"Home page ->\", href=\"/\")\n",
    "    )"
   ]
  },
  {
   "cell_type": "markdown",
   "metadata": {},
   "source": [
    "This also applies to other inputs and plug-ins for API endpoint, such as middleware, headers, ... These will be automatically checked to extract an input with the same specified name and type."
   ]
  },
  {
   "cell_type": "markdown",
   "metadata": {
    "tags": []
   },
   "source": [
    "## User interactions\n",
    "\n",
    "As an API-driven structure, each user interaction can be handled by calling an API endpoint. The result of this responding endpoint will be rendered on browser. In fastHTML, such process can result in a full-page re-rendering based on the updated page, or a partial re-rendering by utilizing HTMX."
   ]
  },
  {
   "cell_type": "code",
   "execution_count": 69,
   "metadata": {
    "tags": []
   },
   "outputs": [],
   "source": [
    "benefits = [\n",
    "    'It is easy to create.',\n",
    "    'It is fast to render.',\n",
    "    'It is fun!'\n",
    "]\n",
    "\n",
    "@app.get(\"/\")  # Define API endpoint\n",
    "def index():\n",
    "    # Return the HTML structure to be rendered\n",
    "    return Titled('Hello, Jupyter',\n",
    "        P('Welcome to the FastHTML + Jupyter example', style=\"background-color: #800000;\"),\n",
    "        A(\"Welcome page ->\", href=\"/welcome\"),\n",
    "        Ul(\n",
    "            # Create a list element for each benefit\n",
    "            *[Li(benefit) for benefit in benefits],\n",
    "            id=\"benefits\"\n",
    "        ),\n",
    "        A(\"Benefit Form ->\", href=\"/form\")\n",
    "    )\n",
    "\n",
    "@app.get(\"/form\")\n",
    "def open_form():\n",
    "    return Main(P(\"Add a benefit with the form below:\"),\n",
    "                Form(Input(type=\"text\", name=\"benefit\"),\n",
    "                     Button(\"Submit\"),\n",
    "                     action=\"/form\", method=\"post\"))\n",
    "\n",
    "@app.post(\"/form\")\n",
    "def submit_form(benefit:str):  # `benefit` correspond with `name` for the input in form\n",
    "    benefits.append(benefit)\n",
    "    return index()"
   ]
  },
  {
   "cell_type": "markdown",
   "metadata": {},
   "source": [
    "In this case, the list of benefits is updated using a global variable on the server (not recommended unless using a local web-application). The button triggers the POST /form endpoint which adds the new benefit and re-render the whole main page.\n",
    "\n",
    "However, it is enough in this use case to just render one element - the benefit list. This will result in higher rendering speed and yield more efficient performance. Such partial rendering can be achieved in fastHTML using HTMX. To utilize HTMX rendering, one should set:\n",
    "\n",
    "- Function or endpoint: The function to execute when the event is triggered. This should be set using different `hx` action parameters for different methods. In this case, we can use `hx_post` and set it to be `hx_post=submit_form` or `hx_post='/form'.`  \n",
    "- Target: The element to be modified after this event. In that case, it is the benefit list, so we should set `hx_target='#benefits'`.  \n",
    "- Change location: How to change the content of target. In this case, we need to add one new element at the end of the list, so we can set `hx_swap='beforeend'`."
   ]
  },
  {
   "cell_type": "code",
   "execution_count": 88,
   "metadata": {
    "tags": []
   },
   "outputs": [],
   "source": [
    "#| hide\n",
    "reset_app()"
   ]
  },
  {
   "cell_type": "code",
   "execution_count": 89,
   "metadata": {
    "tags": []
   },
   "outputs": [],
   "source": [
    "benefits = [\n",
    "    'It is easy to create.',\n",
    "    'It is fast to render.',\n",
    "    'It is fun!'\n",
    "]\n",
    "\n",
    "@app.get(\"/\")  # Define API endpoint\n",
    "def index():\n",
    "    # Return the HTML structure to be rendered\n",
    "    return Titled('Hello, Jupyter',\n",
    "        P('Welcome to the FastHTML + Jupyter example', style=\"background-color: #800000;\"),\n",
    "        A(\"Welcome page ->\", href=\"/welcome\"),\n",
    "        Ul(\n",
    "            # Create a list element for each benefit\n",
    "            *[Li(benefit) for benefit in benefits],\n",
    "            id=\"benefits\"\n",
    "        ),\n",
    "        P(\"Add a benefit with the form below:\"),\n",
    "        Form(hx_post='/form', hx_target='#benefits', hx_swap='beforeend')(\n",
    "            Input(type=\"text\", name=\"benefit\"),\n",
    "            Button(\"Submit\"),\n",
    "        )\n",
    "    )\n",
    "\n",
    "@app.post(\"/form\")\n",
    "def submit_form(benefit:str):  # `benefit` correspond with `name` for the input in form\n",
    "    return Li(benefit)"
   ]
  },
  {
   "cell_type": "code",
   "execution_count": 55,
   "metadata": {
    "tags": []
   },
   "outputs": [],
   "source": [
    "#| hide\n",
    "nbdev_export()"
   ]
  },
  {
   "cell_type": "code",
   "execution_count": null,
   "metadata": {},
   "outputs": [],
   "source": []
  }
 ],
 "metadata": {
  "kernelspec": {
   "display_name": "Python 3 (ipykernel)",
   "language": "python",
   "name": "python3"
  },
  "language_info": {
   "codemirror_mode": {
    "name": "ipython",
    "version": 3
   },
   "file_extension": ".py",
   "mimetype": "text/x-python",
   "name": "python",
   "nbconvert_exporter": "python",
   "pygments_lexer": "ipython3",
   "version": "3.12.7"
  }
 },
 "nbformat": 4,
 "nbformat_minor": 4
}
